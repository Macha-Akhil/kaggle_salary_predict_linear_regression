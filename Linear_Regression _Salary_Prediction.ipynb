{
  "metadata": {
    "kernelspec": {
      "language": "python",
      "display_name": "Python 3",
      "name": "python3"
    },
    "language_info": {
      "name": "python",
      "version": "3.10.14",
      "mimetype": "text/x-python",
      "codemirror_mode": {
        "name": "ipython",
        "version": 3
      },
      "pygments_lexer": "ipython3",
      "nbconvert_exporter": "python",
      "file_extension": ".py"
    },
    "kaggle": {
      "accelerator": "none",
      "dataSources": [
        {
          "sourceId": 4832081,
          "sourceType": "datasetVersion",
          "datasetId": 2799910
        }
      ],
      "dockerImageVersionId": 30786,
      "isInternetEnabled": false,
      "language": "python",
      "sourceType": "notebook",
      "isGpuEnabled": false
    },
    "colab": {
      "name": "notebookd3987df4ce",
      "provenance": [],
      "include_colab_link": true
    }
  },
  "nbformat_minor": 0,
  "nbformat": 4,
  "cells": [
    {
      "cell_type": "markdown",
      "metadata": {
        "id": "view-in-github",
        "colab_type": "text"
      },
      "source": [
        "<a href=\"https://colab.research.google.com/github/Macha-Akhil/kaggle_salary_predict_linear_regression/blob/main/Linear_Regression%20_Salary_Prediction.ipynb\" target=\"_parent\"><img src=\"https://colab.research.google.com/assets/colab-badge.svg\" alt=\"Open In Colab\"/></a>"
      ]
    },
    {
      "source": [
        "# IMPORTANT: RUN THIS CELL IN ORDER TO IMPORT YOUR KAGGLE DATA SOURCES,\n",
        "# THEN FEEL FREE TO DELETE THIS CELL.\n",
        "# NOTE: THIS NOTEBOOK ENVIRONMENT DIFFERS FROM KAGGLE'S PYTHON\n",
        "# ENVIRONMENT SO THERE MAY BE MISSING LIBRARIES USED BY YOUR\n",
        "# NOTEBOOK.\n",
        "import kagglehub\n",
        "abhishek14398_salary_dataset_simple_linear_regression_path = kagglehub.dataset_download('abhishek14398/salary-dataset-simple-linear-regression')\n",
        "\n",
        "print('Data source import complete.')\n"
      ],
      "metadata": {
        "id": "lfeC3g66I7F-"
      },
      "cell_type": "code",
      "outputs": [],
      "execution_count": null
    },
    {
      "cell_type": "code",
      "source": [
        "# This Python 3 environment comes with many helpful analytics libraries installed\n",
        "# It is defined by the kaggle/python Docker image: https://github.com/kaggle/docker-python\n",
        "# For example, here's several helpful packages to load\n",
        "\n",
        "import numpy as np # linear algebra\n",
        "import pandas as pd # data processing, CSV file I/O (e.g. pd.read_csv)\n",
        "\n",
        "# Input data files are available in the read-only \"../input/\" directory\n",
        "# For example, running this (by clicking run or pressing Shift+Enter) will list all files under the input directory\n",
        "\n",
        "import os\n",
        "for dirname, _, filenames in os.walk('/kaggle/input'):\n",
        "    for filename in filenames:\n",
        "        print(os.path.join(dirname, filename))\n",
        "\n",
        "# You can write up to 20GB to the current directory (/kaggle/working/) that gets preserved as output when you create a version using \"Save & Run All\"\n",
        "# You can also write temporary files to /kaggle/temp/, but they won't be saved outside of the current session"
      ],
      "metadata": {
        "_uuid": "8f2839f25d086af736a60e9eeb907d3b93b6e0e5",
        "_cell_guid": "b1076dfc-b9ad-4769-8c92-a6c4dae69d19",
        "trusted": true,
        "execution": {
          "iopub.status.busy": "2024-11-25T04:53:19.143707Z",
          "iopub.execute_input": "2024-11-25T04:53:19.14415Z",
          "iopub.status.idle": "2024-11-25T04:53:20.53938Z",
          "shell.execute_reply.started": "2024-11-25T04:53:19.144116Z",
          "shell.execute_reply": "2024-11-25T04:53:20.538068Z"
        },
        "id": "xk6DZWM5I7GA"
      },
      "outputs": [],
      "execution_count": null
    },
    {
      "cell_type": "code",
      "source": [
        "import pandas as pd\n",
        "import numpy as np\n",
        "from sklearn import linear_model\n",
        "import matplotlib.pyplot as plt\n"
      ],
      "metadata": {
        "trusted": true,
        "execution": {
          "iopub.status.busy": "2024-11-25T04:53:20.541845Z",
          "iopub.execute_input": "2024-11-25T04:53:20.542464Z",
          "iopub.status.idle": "2024-11-25T04:53:22.472548Z",
          "shell.execute_reply.started": "2024-11-25T04:53:20.542414Z",
          "shell.execute_reply": "2024-11-25T04:53:22.471339Z"
        },
        "id": "r67CiJcuI7GA"
      },
      "outputs": [],
      "execution_count": null
    },
    {
      "cell_type": "code",
      "source": [
        "df=pd.read_csv('/kaggle/input/salary-dataset-simple-linear-regression/Salary_dataset.csv')\n",
        "df"
      ],
      "metadata": {
        "trusted": true,
        "execution": {
          "iopub.status.busy": "2024-11-25T04:53:22.474142Z",
          "iopub.execute_input": "2024-11-25T04:53:22.474579Z",
          "iopub.status.idle": "2024-11-25T04:53:22.515147Z",
          "shell.execute_reply.started": "2024-11-25T04:53:22.474548Z",
          "shell.execute_reply": "2024-11-25T04:53:22.513856Z"
        },
        "id": "cFFXUf3QI7GA"
      },
      "outputs": [],
      "execution_count": null
    },
    {
      "cell_type": "code",
      "source": [
        "# %matplotlib inline\n",
        "plt.xlabel('YearsExperience')\n",
        "plt.ylabel('Salary')\n",
        "plt.scatter(df.YearsExperience,df.Salary,color='red',marker='+')\n"
      ],
      "metadata": {
        "trusted": true,
        "execution": {
          "iopub.status.busy": "2024-11-25T04:53:22.517483Z",
          "iopub.execute_input": "2024-11-25T04:53:22.517919Z",
          "iopub.status.idle": "2024-11-25T04:53:22.802664Z",
          "shell.execute_reply.started": "2024-11-25T04:53:22.51787Z",
          "shell.execute_reply": "2024-11-25T04:53:22.801143Z"
        },
        "id": "HLJ-MV9WI7GA"
      },
      "outputs": [],
      "execution_count": null
    },
    {
      "cell_type": "code",
      "source": [
        "new_df = df.drop('Salary',axis='columns')\n",
        "new_df = new_df.drop('Unnamed: 0',axis='columns')\n",
        "new_df\n"
      ],
      "metadata": {
        "trusted": true,
        "execution": {
          "iopub.status.busy": "2024-11-25T04:53:22.80402Z",
          "iopub.execute_input": "2024-11-25T04:53:22.80436Z",
          "iopub.status.idle": "2024-11-25T04:53:22.823579Z",
          "shell.execute_reply.started": "2024-11-25T04:53:22.804329Z",
          "shell.execute_reply": "2024-11-25T04:53:22.822093Z"
        },
        "id": "q0zioLfkI7GA"
      },
      "outputs": [],
      "execution_count": null
    },
    {
      "cell_type": "code",
      "source": [
        "new_salary = df.Salary\n",
        "new_salary.shape"
      ],
      "metadata": {
        "trusted": true,
        "execution": {
          "iopub.status.busy": "2024-11-25T04:53:22.82509Z",
          "iopub.execute_input": "2024-11-25T04:53:22.8255Z",
          "iopub.status.idle": "2024-11-25T04:53:22.837392Z",
          "shell.execute_reply.started": "2024-11-25T04:53:22.825465Z",
          "shell.execute_reply": "2024-11-25T04:53:22.835881Z"
        },
        "id": "fACsUWlqI7GB"
      },
      "outputs": [],
      "execution_count": null
    },
    {
      "cell_type": "code",
      "source": [
        "# Create linear regression object\n",
        "from sklearn import linear_model\n",
        "reg = linear_model.LinearRegression()\n",
        "# reg.fit(df[['YearsExperience']],df.Salary)\n",
        "reg.fit(new_df,new_salary)"
      ],
      "metadata": {
        "trusted": true,
        "execution": {
          "iopub.status.busy": "2024-11-25T04:53:22.838685Z",
          "iopub.execute_input": "2024-11-25T04:53:22.839281Z",
          "iopub.status.idle": "2024-11-25T04:53:22.869243Z",
          "shell.execute_reply.started": "2024-11-25T04:53:22.839134Z",
          "shell.execute_reply": "2024-11-25T04:53:22.867988Z"
        },
        "id": "pQttv6t6I7GB"
      },
      "outputs": [],
      "execution_count": null
    },
    {
      "cell_type": "code",
      "source": [
        "reg.predict([[4]])"
      ],
      "metadata": {
        "trusted": true,
        "execution": {
          "iopub.status.busy": "2024-11-25T04:53:22.870956Z",
          "iopub.execute_input": "2024-11-25T04:53:22.871322Z",
          "iopub.status.idle": "2024-11-25T04:53:22.88258Z",
          "shell.execute_reply.started": "2024-11-25T04:53:22.87129Z",
          "shell.execute_reply": "2024-11-25T04:53:22.881466Z"
        },
        "id": "rEnNnyVkI7GB"
      },
      "outputs": [],
      "execution_count": null
    },
    {
      "cell_type": "code",
      "source": [],
      "metadata": {
        "trusted": true,
        "id": "HZxVLEuaI7GB"
      },
      "outputs": [],
      "execution_count": null
    }
  ]
}